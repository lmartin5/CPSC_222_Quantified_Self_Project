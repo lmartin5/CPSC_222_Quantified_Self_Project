{
 "metadata": {
  "language_info": {
   "codemirror_mode": {
    "name": "ipython",
    "version": 3
   },
   "file_extension": ".py",
   "mimetype": "text/x-python",
   "name": "python",
   "nbconvert_exporter": "python",
   "pygments_lexer": "ipython3",
   "version": 3
  },
  "orig_nbformat": 2
 },
 "nbformat": 4,
 "nbformat_minor": 2,
 "cells": [
  {
   "source": [
    "# Project Title (w/ header below)"
   ],
   "cell_type": "markdown",
   "metadata": {}
  },
  {
   "source": [
    "## Sources"
   ],
   "cell_type": "markdown",
   "metadata": {}
  },
  {
   "source": [
    "## Introduction"
   ],
   "cell_type": "markdown",
   "metadata": {}
  },
  {
   "source": [
    "## Data Preperation\n",
    "The Fitbit website allows access to personal data in a very friendly format. I have access to both my sleep and activity data gathered by my device from September 17, 2020 to the present. Looking at the data using Microsoft Excel, I can see that every entry is a numerical value, except for the date and time stamps. The activity CSV has one date column for which every other attribute has a corresponding value. The sleep CSV meanwhile, has two timestamps columns: one for the sleep start time and one for the sleep stop time. That will be my main task in preparing the data. \n",
    "### Cleaning (Spreadsheet)\n",
    "Just looking at both CSV files in Microsoft Excel, I can see that both top rows contain one cell that has the label for the data table.  \n",
    "<img src=\"https://github.com/lmartin5/CPSC_222_Quantified_Self_Project/blob/master/figures/data_with_label_row.PNG?raw=true\"  width=\"700\"/>  \n",
    "Since this is a one-step process, for both CSV files I just manually deleted the top row, so that now the top row only contains the column labels.  \n",
    "<img src=\"https://github.com/lmartin5/CPSC_222_Quantified_Self_Project/blob/master/figures/data_without_label_row.PNG?raw=true\"  width=\"700\"/>  "
   ],
   "cell_type": "markdown",
   "metadata": {}
  }
 ]
}