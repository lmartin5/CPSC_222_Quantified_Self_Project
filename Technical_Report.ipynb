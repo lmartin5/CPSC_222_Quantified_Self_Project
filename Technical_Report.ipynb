{
 "metadata": {
  "language_info": {
   "codemirror_mode": {
    "name": "ipython",
    "version": 3
   },
   "file_extension": ".py",
   "mimetype": "text/x-python",
   "name": "python",
   "nbconvert_exporter": "python",
   "pygments_lexer": "ipython3",
   "version": "3.8.3-final"
  },
  "orig_nbformat": 2,
  "kernelspec": {
   "name": "python3",
   "display_name": "Python 3"
  }
 },
 "nbformat": 4,
 "nbformat_minor": 2,
 "cells": [
  {
   "source": [
    "# Project Title (w/ header below)"
   ],
   "cell_type": "markdown",
   "metadata": {}
  },
  {
   "source": [
    "## Sources\n",
    "This project makes use of information from the following sources:\n",
    "  \n",
    "* Dr. Sprint's [CPSC 222 Course Materials](https://github.com/GonzagaCPSC222)\n",
    "\n",
    "* Pandas [Documentation Pages](https://pandas.pydata.org/docs/)\n",
    "\n",
    "* [Python Basics](https://pythonbasics.org/)\n",
    "\n",
    "Links to specific pages are included throughout as they are relavent."
   ],
   "cell_type": "markdown",
   "metadata": {}
  },
  {
   "source": [
    "## Introduction"
   ],
   "cell_type": "markdown",
   "metadata": {}
  },
  {
   "source": [
    "## Data Preperation\n",
    "The Fitbit website allows access to personal data in a very friendly format. I have access to both my sleep and activity data gathered by my device from September 17, 2020 to the present. Looking at the data using Microsoft Excel, I can see that every entry is a numerical value, except for the date and time stamps. A few of the columns will also have to be converted from strings to integers due to the prescence of commas. The activity CSV has one date column for which every other attribute has a corresponding value. The sleep CSV meanwhile, has two timestamps columns: one for the sleep start time and one for the sleep stop time. That will be my main task in preparing the data. \n",
    "### Cleaning (Spreadsheet)\n",
    "Looking at both CSV files in Microsoft Excel, I can see that both top rows contain one cell that has the label for the data table.  \n",
    "<img src=\"https://github.com/lmartin5/CPSC_222_Quantified_Self_Project/blob/master/figures/data_with_label_row.PNG?raw=true\"  width=\"700\"/>  \n",
    "Since this is a one-step process, for both CSV files I manually deleted the top row, so that now the top row only contains the column labels.  \n",
    "<img src=\"https://github.com/lmartin5/CPSC_222_Quantified_Self_Project/blob/master/figures/data_without_label_row.PNG?raw=true\"  width=\"700\"/>"
   ],
   "cell_type": "markdown",
   "metadata": {}
  },
  {
   "source": [
    "### Loading the Data\n",
    "`Pandas` will be the main module used for working directly with the data, and the `read_csv()` function can be used to load the data directly. The `index_col` key word in the `read_csv()` function can be set to 0 when loading in the activity data because it already has the date in a usable format. More work will have to be done using the time stamps in the sleep data to get a identical index column. The `set_option()` function is used to force the program to display all of the columns of the DataFrame as discussed [here](https://pandas.pydata.org/pandas-docs/stable/reference/api/pandas.set_option.html)."
   ],
   "cell_type": "markdown",
   "metadata": {}
  },
  {
   "cell_type": "code",
   "execution_count": 1,
   "metadata": {},
   "outputs": [],
   "source": [
    "import pandas as pd\n",
    "\n",
    "sleep_df = pd.read_csv(\"files/fitbit_sleep_data.csv\")\n",
    "activity_df = pd.read_csv(\"files/fitbit_activity_data.csv\", index_col=0)\n",
    "pd.set_option(\"display.max_columns\", None)"
   ]
  },
  {
   "source": [
    "There are three columns in the sleep DataFrame that only contain NaN values. These are attributes that are tracked by devices more advanced than the one used in this project, so they can be droped from the DataFrame. I will also change the column labels so that the DataFrames can print out in a more friendly format in the report. "
   ],
   "cell_type": "markdown",
   "metadata": {}
  },
  {
   "cell_type": "code",
   "execution_count": 2,
   "metadata": {},
   "outputs": [
    {
     "output_type": "stream",
     "name": "stdout",
     "text": [
      "Sleep Data\n                Start                 End  Asleep  Awake  Times Awake  \\\n0   2020-11-19 1:22AM   2020-11-19 8:47AM     422     14            2   \n1  2020-11-17 11:56PM   2020-11-18 7:02AM     398     28            1   \n2  2020-11-17 12:22AM   2020-11-17 7:08AM     378     24            1   \n3  2020-11-16 12:27AM   2020-11-16 6:33AM     349     17            1   \n4   2020-11-15 1:59AM  2020-11-15 11:21AM     525     37            1   \n\n   Time in Bed  \n0          444  \n1          426  \n2          406  \n3          366  \n4          562  \nActivity Data\n            Cals   Steps  Distance  Floors     MS  MLA  MFA  MVA Act. Cals\nDate                                                                      \n9/17/2020  1,904     353      0.17       0  1,407   33    0    0       128\n9/18/2020  3,125  11,504      5.55       5    647  295   39   31     1,666\n9/19/2020  2,338   3,463      1.67       2    720  147    0    0       577\n9/20/2020  2,777   8,782      4.23       5    528  210   24   32     1,230\n9/21/2020  3,663  17,612      8.49      26    596  267  118   47     2,284\n"
     ]
    }
   ],
   "source": [
    "sleep_df.drop([\"Minutes REM Sleep\", \"Minutes Light Sleep\", \"Minutes Deep Sleep\"], axis=1, inplace=True)\n",
    "sleep_df.columns = [\"Start\", \"End\", \"Asleep\", \"Awake\", \"Times Awake\", \"Time in Bed\"]\n",
    "activity_df.columns = [\"Cals\", \"Steps\", \"Distance\", \"Floors\", \"MS\", \"MLA\", \"MFA\", \"MVA\", \"Act. Cals\"]\n",
    "\n",
    "print(\"Sleep Data\")\n",
    "print(sleep_df.head())\n",
    "print(\"Activity Data\")\n",
    "print(activity_df.head())"
   ]
  },
  {
   "source": [
    "### Type Conversion\n",
    "Right now, there are a few columns in the activity DataFrame that hold strings instead of integers due to commas. I wrote a function to deal with these commas, and it can be used on the columns that are currently strings."
   ],
   "cell_type": "markdown",
   "metadata": {}
  },
  {
   "cell_type": "code",
   "execution_count": 3,
   "metadata": {},
   "outputs": [],
   "source": [
    "def clean_column(column):\n",
    "    '''\n",
    "    Cleans a column that contains strings of integer values with commas\n",
    "    Parameter column: a Pandas Series from a DataFrame\n",
    "    Returns: a Series with the same data but of type int\n",
    "    '''\n",
    "    col_copy = column.copy()\n",
    "    for i in col_copy.index:\n",
    "        str_copy = col_copy[i]\n",
    "        str_copy = str_copy.replace(\",\", \"\")\n",
    "        col_copy[i] = str_copy\n",
    "    col_copy = col_copy.astype(int)\n",
    "    return col_copy\n",
    "\n",
    "activity_df[\"Cals\"] = clean_column(activity_df[\"Cals\"])\n",
    "activity_df[\"Steps\"] = clean_column(activity_df[\"Steps\"])\n",
    "activity_df[\"MS\"] = clean_column(activity_df[\"MS\"])\n",
    "activity_df[\"Act. Cals\"] = clean_column(activity_df[\"Act. Cals\"])"
   ]
  },
  {
   "source": [
    "I can confirm now that every column consists of numerical data using the DataFrame `dtypes` attribute."
   ],
   "cell_type": "markdown",
   "metadata": {}
  },
  {
   "cell_type": "code",
   "execution_count": 4,
   "metadata": {},
   "outputs": [
    {
     "output_type": "stream",
     "name": "stdout",
     "text": [
      "Start          object\n",
      "End            object\n",
      "Asleep          int64\n",
      "Awake           int64\n",
      "Times Awake     int64\n",
      "Time in Bed     int64\n",
      "dtype: object\n",
      "Cals           int32\n",
      "Steps          int32\n",
      "Distance     float64\n",
      "Floors         int64\n",
      "MS             int32\n",
      "MLA            int64\n",
      "MFA            int64\n",
      "MVA            int64\n",
      "Act. Cals      int32\n",
      "dtype: object\n"
     ]
    }
   ],
   "source": [
    "print(sleep_df.dtypes)\n",
    "print(activity_df.dtypes)"
   ]
  },
  {
   "source": [
    "### Manipulating Time Stamps\n",
    "I want the instances of the activity DataFrame and the instances of the sleep DataFrame to line up so that I can compare them. For this project, I want to compare my sleep data for each day to my activity data for the day preceding the sleep. First, I need to get just the desired date from the time stamps, and then get rid of the two time stamp columns. Because I sometimes went to sleep before midnight and sometimes after midnight, I need to only use the \"End Time\" column. The dash characters need to be [replaced](https://pythonbasics.org/replace/) with forward slash charcters just like in the activity DataFrame. After that, I have to [sort](https://pandas.pydata.org/pandas-docs/stable/reference/api/pandas.DataFrame.sort_index.html) the order of the sleep DataFrame so that it is in ascending chronological order similar to the activity DataFrame. I am going to have to also shift the dates over one day, so that the first data point in the activity data lines up with the first data point in the sleep data; the first index for each should be September 17, 2020."
   ],
   "cell_type": "markdown",
   "metadata": {}
  },
  {
   "cell_type": "code",
   "execution_count": 5,
   "metadata": {},
   "outputs": [
    {
     "output_type": "stream",
     "name": "stdout",
     "text": [
      "            Asleep  Awake  Times Awake  Time in Bed\nDate                                               \n9/17/2020      404     24            1          428\n9/18/2020      526     47            3          573\n9/19/2020      585     10            0          596\n9/20/2020      430     29            1          462\n9/21/2020      388      7            0          396\n9/22/2020      486     22            1          508\n9/23/2020      484     11            0          495\n9/24/2020      415     20            2          435\n9/25/2020      483     40            2          526\n9/26/2020      493     28            0          521\n9/27/2020      349     40            3          389\n9/28/2020      378     11            1          389\n9/29/2020      427     18            1          445\n9/30/2020      406     18            1          430\n10/1/2020      384      3            0          387\n10/2/2020      608     23            0          631\n10/3/2020      426     10            0          436\n10/4/2020      437     26            1          464\n10/5/2020      383     22            2          405\n10/6/2020      366      4            0          371\n10/7/2020      453     27            1          480\n10/8/2020      432     25            1          460\n10/9/2020      529     24            1          553\n10/10/2020     556     67            3          623\n10/11/2020     411     45            2          456\n10/12/2020     426     25            0          451\n10/13/2020     422     26            0          449\n10/14/2020     399      8            0          407\n10/15/2020     305     12            1          317\n10/16/2020     571     18            0          589\n"
     ]
    }
   ],
   "source": [
    "index = sleep_df[\"End\"].copy() \n",
    "sleep_df.drop([\"Start\", \"End\"], axis=1, inplace=True)\n",
    "index_len = len(index)\n",
    "for i in range(index_len):\n",
    "    str_copy = index[i]\n",
    "    str_copy = str_copy[0:10] # retrieves the first 10 characters, which is the date format\n",
    "    str_copy = str_copy.replace(\"-\", \"/\")\n",
    "    index[i] = str_copy\n",
    "index.name = \"Date\"\n",
    "sleep_df.index = index\n",
    "sleep_df.sort_index(inplace=True) # reverses the order of the DataFrame\n",
    "# Now that both DataFrames are in the same order, I can make them have identical indices\n",
    "sleep_df.index = activity_df.index\n",
    "print(sleep_df.head(30))"
   ]
  },
  {
   "source": [
    "To confirm that both DataFrames are now indexed the way that I want them, I will look at a random date: October 1st. I want the 10/1/2020 activity data to line up with the amount of sleep when I woke up on October 2nd. Looking at the above sleep DataFrame, I can see that at the index 10/01/2020 there are values of 384, 3, 0, and 387. I have confirmed that these are the same numbers in the sleep CSV file that correspond with the instance where I woke up on October 2nd. I now have the data in a format where I can directly compare them."
   ],
   "cell_type": "markdown",
   "metadata": {}
  },
  {
   "source": [
    "### Data Merging\n",
    "The last thing to do in data preperation is to [join](https://pandas.pydata.org/pandas-docs/stable/reference/api/pandas.DataFrame.join.html) the data into one DataFrame. I am also exporting the data to a CSV file so it can be saved and referenced during the project."
   ],
   "cell_type": "markdown",
   "metadata": {}
  },
  {
   "cell_type": "code",
   "execution_count": 6,
   "metadata": {},
   "outputs": [
    {
     "output_type": "stream",
     "name": "stdout",
     "text": [
      "           Cals  Steps  Distance  Floors    MS  MLA  MFA  MVA  Act. Cals  \\\nDate                                                                       \n9/17/2020  1904    353      0.17       0  1407   33    0    0        128   \n9/18/2020  3125  11504      5.55       5   647  295   39   31       1666   \n9/19/2020  2338   3463      1.67       2   720  147    0    0        577   \n9/20/2020  2777   8782      4.23       5   528  210   24   32       1230   \n9/21/2020  3663  17612      8.49      26   596  267  118   47       2284   \n\n           Asleep  Awake  Times Awake  Time in Bed  \nDate                                                \n9/17/2020     404     24            1          428  \n9/18/2020     526     47            3          573  \n9/19/2020     585     10            0          596  \n9/20/2020     430     29            1          462  \n9/21/2020     388      7            0          396  \n"
     ]
    }
   ],
   "source": [
    "sleep_activity_df = activity_df.join(sleep_df)\n",
    "print(sleep_activity_df.head())\n",
    "sleep_activity_df.to_csv(\"files/fitbit_data.csv\")"
   ]
  },
  {
   "source": [
    "## Instance Labeling"
   ],
   "cell_type": "markdown",
   "metadata": {}
  }
 ]
}